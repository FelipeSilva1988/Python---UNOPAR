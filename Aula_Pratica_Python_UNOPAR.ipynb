{
  "nbformat": 4,
  "nbformat_minor": 0,
  "metadata": {
    "colab": {
      "provenance": [],
      "authorship_tag": "ABX9TyMktPhcVt/TgHidPaY21VTc",
      "include_colab_link": true
    },
    "kernelspec": {
      "name": "python3",
      "display_name": "Python 3"
    },
    "language_info": {
      "name": "python"
    }
  },
  "cells": [
    {
      "cell_type": "markdown",
      "metadata": {
        "id": "view-in-github",
        "colab_type": "text"
      },
      "source": [
        "<a href=\"https://colab.research.google.com/github/FelipeSilva1988/Python---UNOPAR/blob/main/Aula_Pratica_Python_UNOPAR.ipynb\" target=\"_parent\"><img src=\"https://colab.research.google.com/assets/colab-badge.svg\" alt=\"Open In Colab\"/></a>"
      ]
    },
    {
      "cell_type": "code",
      "execution_count": 6,
      "metadata": {
        "colab": {
          "base_uri": "https://localhost:8080/"
        },
        "id": "hSOJmeKLIWH6",
        "outputId": "d7933afa-c4ca-4eea-fec8-f3e07a60187d"
      },
      "outputs": [
        {
          "output_type": "stream",
          "name": "stdout",
          "text": [
            "Digite nome do aluno:Felipe Silva\n",
            "digite a primeira nota:8\n",
            "digite a segunda nota:8\n",
            "digite a terceira nota:9\n",
            "digite a quarta nota:8\n",
            "A media das notas é: 8.25\n",
            "Situaação do aluno: Aprovado\n"
          ]
        }
      ],
      "source": [
        "nome = input(\"Digite nome do aluno:\")\n",
        "#onde lançamos os dados do aluno\n",
        "\n",
        "Nota_1 = int(input(\"digite a primeira nota:\"))\n",
        "Nota_2 = int(input(\"digite a segunda nota:\"))\n",
        "Nota_3 = int(input(\"digite a terceira nota:\"))\n",
        "Nota_4 = int(input(\"digite a quarta nota:\"))\n",
        "#onde vou lançar as notas\n",
        "\n",
        "media = (Nota_1 + Nota_2 + Nota_3 + Nota_4)/4\n",
        "\n",
        "if media >= 7:\n",
        "  situacao = \"Aprovado\"\n",
        "else:\n",
        "  situacao = \"Reprovado\"\n",
        "  #para descobrir a media do aluno\n",
        "\n",
        "print(f\"A media das notas é: {media}\")\n",
        "print(f\"Situaação do aluno: {situacao}\")\n",
        "#depois da entrada dos dados com a nota aqui sai o resultado da media do aluno"
      ]
    }
  ]
}